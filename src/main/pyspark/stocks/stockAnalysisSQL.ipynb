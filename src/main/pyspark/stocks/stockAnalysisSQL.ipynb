{
  "nbformat": 4,
  "nbformat_minor": 0,
  "metadata": {
    "colab": {
      "name": "stockAnalysisSQL.ipynb",
      "provenance": [],
      "collapsed_sections": [],
      "authorship_tag": "ABX9TyNWSFZQIhtomUFk0dGMkuvt",
      "include_colab_link": true
    },
    "kernelspec": {
      "name": "python3",
      "display_name": "Python 3"
    }
  },
  "cells": [
    {
      "cell_type": "markdown",
      "metadata": {
        "id": "view-in-github",
        "colab_type": "text"
      },
      "source": [
        "<a href=\"https://colab.research.google.com/github/dubeyabhi07/big-data-spark/blob/master/src/main/pyspark/stocks/stockAnalysisSQL.ipynb\" target=\"_parent\"><img src=\"https://colab.research.google.com/assets/colab-badge.svg\" alt=\"Open In Colab\"/></a>"
      ]
    },
    {
      "cell_type": "code",
      "metadata": {
        "id": "Q3mAeJcy09A0",
        "colab_type": "code",
        "colab": {}
      },
      "source": [
        "!apt-get install openjdk-8-jdk-headless -qq > /dev/null"
      ],
      "execution_count": 0,
      "outputs": []
    },
    {
      "cell_type": "code",
      "metadata": {
        "id": "6yUHk99D1BZH",
        "colab_type": "code",
        "colab": {}
      },
      "source": [
        "import os\n",
        "os.environ[\"JAVA_HOME\"] = \"/usr/lib/jvm/java-8-openjdk-amd64\""
      ],
      "execution_count": 0,
      "outputs": []
    },
    {
      "cell_type": "code",
      "metadata": {
        "id": "bU2NAuGg1CdL",
        "colab_type": "code",
        "colab": {
          "base_uri": "https://localhost:8080/",
          "height": 255
        },
        "outputId": "c8d26a06-2418-43dc-d79e-841792179b23"
      },
      "source": [
        "!pip install pyspark\n",
        "from pyspark.sql import SparkSession\n",
        "spark = SparkSession.builder.master(\"local[*]\").getOrCreate()"
      ],
      "execution_count": 3,
      "outputs": [
        {
          "output_type": "stream",
          "text": [
            "Collecting pyspark\n",
            "\u001b[?25l  Downloading https://files.pythonhosted.org/packages/e9/e4/5c15ab8d354c4e3528510821865e6748209a9b0ff6a1788f4cd36cc2a5dc/pyspark-2.4.6.tar.gz (218.4MB)\n",
            "\u001b[K     |████████████████████████████████| 218.4MB 57kB/s \n",
            "\u001b[?25hCollecting py4j==0.10.7\n",
            "\u001b[?25l  Downloading https://files.pythonhosted.org/packages/e3/53/c737818eb9a7dc32a7cd4f1396e787bd94200c3997c72c1dbe028587bd76/py4j-0.10.7-py2.py3-none-any.whl (197kB)\n",
            "\u001b[K     |████████████████████████████████| 204kB 47.1MB/s \n",
            "\u001b[?25hBuilding wheels for collected packages: pyspark\n",
            "  Building wheel for pyspark (setup.py) ... \u001b[?25l\u001b[?25hdone\n",
            "  Created wheel for pyspark: filename=pyspark-2.4.6-py2.py3-none-any.whl size=218814406 sha256=89f0275fec56e2158736b0e8de820e5ee62102cc29b8323a5a016d5d6afde018\n",
            "  Stored in directory: /root/.cache/pip/wheels/1e/5e/6a/17e906c94ec7246f260330a66e44a06a0809033ba2738a74a8\n",
            "Successfully built pyspark\n",
            "Installing collected packages: py4j, pyspark\n",
            "Successfully installed py4j-0.10.7 pyspark-2.4.6\n"
          ],
          "name": "stdout"
        }
      ]
    },
    {
      "cell_type": "code",
      "metadata": {
        "id": "jSFX-XUZua3G",
        "colab_type": "code",
        "outputId": "26e265b3-8f3b-4d3e-ac18-c5c35cb7f9e9",
        "colab": {
          "base_uri": "https://localhost:8080/",
          "height": 1000
        }
      },
      "source": [
        "stocksToBeLoaded = {\"HDFC\" : \"DLF.NS.csv\",\n",
        "                    \"ICICI\" : \"ICICIBANK.NS.csv\",\n",
        "                    \"cipla\" : \"CIPLA.NS.csv\",\n",
        "                    \"HUL\" :\"HINDUNILVR.NS.csv\",\n",
        "                    \"sunpharma\" : \"SUNPHARMA.NS.csv\",\n",
        "                    \"DLF\":\"DLF.NS.csv\",\n",
        "                    \"indiaBulls\":\"IBREALEST.NS.csv\",                    \n",
        "                    \"reliance\":\"RELIANCE.NS.csv\",\n",
        "                    \"ONGC\":\"ONGC.NS.csv\",\n",
        "                    \"tataMotor\":\"TATAMOTORS.NS.csv\",\n",
        "                    \"hero\":\"HEROMOTOCO.NS.csv\",\n",
        "                    \"symphony\":\"SYMPHONY.NS.csv\",\n",
        "                    \"whirlpool\":\"WHIRLPOOL.NS.csv\",\n",
        "                    \"donear\":\"DONEAR.NS.csv\",\n",
        "                    \"raymond\":\"RAYMOND.NS.csv\"}\n",
        "\n",
        "dataFrameMap = dict()\n",
        "for key, value in stocksToBeLoaded.items():\n",
        "  dataFrameMap.update({key:spark.read.csv(stocksToBeLoaded[key], inferSchema = True, header = True)})\n",
        "\n",
        "for key,value in dataFrameMap.items():\n",
        "  print(key+\" : \")\n",
        "  value.show(1)"
      ],
      "execution_count": 4,
      "outputs": [
        {
          "output_type": "stream",
          "text": [
            "HDFC : \n",
            "+-------------------+----------+----------+----------+----------+----------+-------+\n",
            "|               Date|      Open|      High|       Low|     Close| Adj Close| Volume|\n",
            "+-------------------+----------+----------+----------+----------+----------+-------+\n",
            "|2019-01-01 00:00:00|177.100006|182.149994|177.000000|180.300003|177.382294|6246700|\n",
            "+-------------------+----------+----------+----------+----------+----------+-------+\n",
            "only showing top 1 row\n",
            "\n",
            "ICICI : \n",
            "+-------------------+----------+----------+----------+----------+----------+-------+\n",
            "|               Date|      Open|      High|       Low|     Close| Adj Close| Volume|\n",
            "+-------------------+----------+----------+----------+----------+----------+-------+\n",
            "|2019-01-01 00:00:00|361.500000|364.799988|356.399994|363.750000|361.981659|7759872|\n",
            "+-------------------+----------+----------+----------+----------+----------+-------+\n",
            "only showing top 1 row\n",
            "\n",
            "cipla : \n",
            "+-------------------+----------+----------+----------+----------+----------+-------+\n",
            "|               Date|      Open|      High|       Low|     Close| Adj Close| Volume|\n",
            "+-------------------+----------+----------+----------+----------+----------+-------+\n",
            "|2019-01-01 00:00:00|520.000000|524.000000|518.650024|523.049988|518.685181|1361809|\n",
            "+-------------------+----------+----------+----------+----------+----------+-------+\n",
            "only showing top 1 row\n",
            "\n",
            "HUL : \n",
            "+-------------------+-----------+-----------+-----------+-----------+-----------+------+\n",
            "|               Date|       Open|       High|        Low|      Close|  Adj Close|Volume|\n",
            "+-------------------+-----------+-----------+-----------+-----------+-----------+------+\n",
            "|2019-01-01 00:00:00|1824.800049|1824.800049|1798.349976|1801.099976|1778.929810|807345|\n",
            "+-------------------+-----------+-----------+-----------+-----------+-----------+------+\n",
            "only showing top 1 row\n",
            "\n",
            "sunpharma : \n",
            "+-------------------+----------+----------+----------+----------+----------+-------+\n",
            "|               Date|      Open|      High|       Low|     Close| Adj Close| Volume|\n",
            "+-------------------+----------+----------+----------+----------+----------+-------+\n",
            "|2019-01-01 00:00:00|432.500000|438.799988|429.649994|433.549988|427.663818|8487116|\n",
            "+-------------------+----------+----------+----------+----------+----------+-------+\n",
            "only showing top 1 row\n",
            "\n",
            "DLF : \n",
            "+-------------------+----------+----------+----------+----------+----------+-------+\n",
            "|               Date|      Open|      High|       Low|     Close| Adj Close| Volume|\n",
            "+-------------------+----------+----------+----------+----------+----------+-------+\n",
            "|2019-01-01 00:00:00|177.100006|182.149994|177.000000|180.300003|177.382294|6246700|\n",
            "+-------------------+----------+----------+----------+----------+----------+-------+\n",
            "only showing top 1 row\n",
            "\n",
            "indiaBulls : \n",
            "+-------------------+---------+---------+---------+---------+---------+-------+\n",
            "|               Date|     Open|     High|      Low|    Close|Adj Close| Volume|\n",
            "+-------------------+---------+---------+---------+---------+---------+-------+\n",
            "|2019-01-01 00:00:00|87.599998|89.650002|86.699997|88.500000|88.500000|2029550|\n",
            "+-------------------+---------+---------+---------+---------+---------+-------+\n",
            "only showing top 1 row\n",
            "\n",
            "reliance : \n",
            "+-------------------+-----------+-----------+-----------+-----------+-----------+-------+\n",
            "|               Date|       Open|       High|        Low|      Close|  Adj Close| Volume|\n",
            "+-------------------+-----------+-----------+-----------+-----------+-----------+-------+\n",
            "|2019-01-01 00:00:00|1125.250000|1127.300049|1110.099976|1121.000000|1114.826294|4455850|\n",
            "+-------------------+-----------+-----------+-----------+-----------+-----------+-------+\n",
            "only showing top 1 row\n",
            "\n",
            "ONGC : \n",
            "+-------------------+----------+----------+----------+----------+----------+-------+\n",
            "|               Date|      Open|      High|       Low|     Close| Adj Close| Volume|\n",
            "+-------------------+----------+----------+----------+----------+----------+-------+\n",
            "|2019-01-01 00:00:00|150.000000|150.100006|148.000000|148.500000|131.673386|4496586|\n",
            "+-------------------+----------+----------+----------+----------+----------+-------+\n",
            "only showing top 1 row\n",
            "\n",
            "tataMotor : \n",
            "+-------------------+----------+----------+----------+----------+----------+-------+\n",
            "|               Date|      Open|      High|       Low|     Close| Adj Close| Volume|\n",
            "+-------------------+----------+----------+----------+----------+----------+-------+\n",
            "|2019-01-01 00:00:00|173.500000|174.199997|171.300003|173.449997|173.449997|6715543|\n",
            "+-------------------+----------+----------+----------+----------+----------+-------+\n",
            "only showing top 1 row\n",
            "\n",
            "hero : \n",
            "+-------------------+-----------+-----------+-----------+-----------+-----------+------+\n",
            "|               Date|       Open|       High|        Low|      Close|  Adj Close|Volume|\n",
            "+-------------------+-----------+-----------+-----------+-----------+-----------+------+\n",
            "|2019-01-01 00:00:00|3089.000000|3135.000000|3073.300049|3127.600098|2909.832764|344239|\n",
            "+-------------------+-----------+-----------+-----------+-----------+-----------+------+\n",
            "only showing top 1 row\n",
            "\n",
            "symphony : \n",
            "+-------------------+-----------+-----------+-----------+-----------+-----------+------+\n",
            "|               Date|       Open|       High|        Low|      Close|  Adj Close|Volume|\n",
            "+-------------------+-----------+-----------+-----------+-----------+-----------+------+\n",
            "|2019-01-01 00:00:00|1181.949951|1198.000000|1162.199951|1182.000000|1161.071167| 10101|\n",
            "+-------------------+-----------+-----------+-----------+-----------+-----------+------+\n",
            "only showing top 1 row\n",
            "\n",
            "whirlpool : \n",
            "+-------------------+-----------+-----------+-----------+-----------+-----------+------+\n",
            "|               Date|       Open|       High|        Low|      Close|  Adj Close|Volume|\n",
            "+-------------------+-----------+-----------+-----------+-----------+-----------+------+\n",
            "|2019-01-01 00:00:00|1419.750000|1419.750000|1385.400024|1404.599976|1395.329712| 29846|\n",
            "+-------------------+-----------+-----------+-----------+-----------+-----------+------+\n",
            "only showing top 1 row\n",
            "\n",
            "donear : \n",
            "+-------------------+---------+---------+---------+---------+---------+------+\n",
            "|               Date|     Open|     High|      Low|    Close|Adj Close|Volume|\n",
            "+-------------------+---------+---------+---------+---------+---------+------+\n",
            "|2019-01-01 00:00:00|37.299999|38.599998|36.700001|37.049999|36.827477| 48490|\n",
            "+-------------------+---------+---------+---------+---------+---------+------+\n",
            "only showing top 1 row\n",
            "\n",
            "raymond : \n",
            "+-------------------+----------+----------+----------+----------+----------+------+\n",
            "|               Date|      Open|      High|       Low|     Close| Adj Close|Volume|\n",
            "+-------------------+----------+----------+----------+----------+----------+------+\n",
            "|2019-01-01 00:00:00|846.000000|847.700012|837.650024|842.950012|839.800598|186250|\n",
            "+-------------------+----------+----------+----------+----------+----------+------+\n",
            "only showing top 1 row\n",
            "\n"
          ],
          "name": "stdout"
        }
      ]
    },
    {
      "cell_type": "code",
      "metadata": {
        "id": "QMgJriyyuLyT",
        "colab_type": "code",
        "colab": {}
      },
      "source": [
        "  from pyspark.sql.functions import *\n",
        "  \n",
        "  for key,value in dataFrameMap.items():\n",
        "    value = value.withColumn(\"stockName\",lit(key))\n",
        "    value.createOrReplaceTempView(key+\"View\")"
      ],
      "execution_count": 0,
      "outputs": []
    },
    {
      "cell_type": "code",
      "metadata": {
        "id": "aH3ZGu_jv2Yl",
        "colab_type": "code",
        "outputId": "492713b5-a82a-4922-a373-ce0bfd26b7ce",
        "colab": {
          "base_uri": "https://localhost:8080/",
          "height": 642
        }
      },
      "source": [
        "'''\n",
        "     * 1. Most Volatile stocks for intra-day in 2019 (descending order)\n",
        "     * Description :  stock that remained least stable.\n",
        "     * average of absolute difference between daily high and low price.\n",
        "     \n",
        "'''\n",
        "\n",
        "def createQueryForMaxIntraDayVolatility(stocks):\n",
        "  query = \"\";\n",
        "  for stock in stocks :\n",
        "    if stock != stocks[0]:\n",
        "        query += \"UNION\"\n",
        "        \n",
        "    subQuery = \"SELECT stock, AVG(dailyDiffRatio) AS intraDayAvgVolatilityPercent \"\\\n",
        "          + \" FROM ( SELECT stockName AS stock, 100*abs(High - Low)/Open AS dailyDiffRatio\"\\\n",
        "          + \" FROM \" + stock + \"View )\"\\\n",
        "          + \" GROUP BY stock\"\n",
        "    print(subQuery)\n",
        "    query += \"( \" + subQuery + \" )\"\n",
        "  query += \"ORDER BY intraDayAvgVolatilityPercent DESC\"\n",
        "  return query;\n",
        "\n",
        "intraDayAvgVolatility = spark.sql(createQueryForMaxIntraDayVolatility(list(stocksToBeLoaded.keys())));\n",
        "print(\"The most volatile stocks (intra-day) in 2019 are in order : \");\n",
        "intraDayAvgVolatility.show(20)"
      ],
      "execution_count": 6,
      "outputs": [
        {
          "output_type": "stream",
          "text": [
            "SELECT stock, AVG(dailyDiffRatio) AS intraDayAvgVolatilityPercent  FROM ( SELECT stockName AS stock, 100*abs(High - Low)/Open AS dailyDiffRatio FROM HDFCView ) GROUP BY stock\n",
            "SELECT stock, AVG(dailyDiffRatio) AS intraDayAvgVolatilityPercent  FROM ( SELECT stockName AS stock, 100*abs(High - Low)/Open AS dailyDiffRatio FROM ICICIView ) GROUP BY stock\n",
            "SELECT stock, AVG(dailyDiffRatio) AS intraDayAvgVolatilityPercent  FROM ( SELECT stockName AS stock, 100*abs(High - Low)/Open AS dailyDiffRatio FROM ciplaView ) GROUP BY stock\n",
            "SELECT stock, AVG(dailyDiffRatio) AS intraDayAvgVolatilityPercent  FROM ( SELECT stockName AS stock, 100*abs(High - Low)/Open AS dailyDiffRatio FROM HULView ) GROUP BY stock\n",
            "SELECT stock, AVG(dailyDiffRatio) AS intraDayAvgVolatilityPercent  FROM ( SELECT stockName AS stock, 100*abs(High - Low)/Open AS dailyDiffRatio FROM sunpharmaView ) GROUP BY stock\n",
            "SELECT stock, AVG(dailyDiffRatio) AS intraDayAvgVolatilityPercent  FROM ( SELECT stockName AS stock, 100*abs(High - Low)/Open AS dailyDiffRatio FROM DLFView ) GROUP BY stock\n",
            "SELECT stock, AVG(dailyDiffRatio) AS intraDayAvgVolatilityPercent  FROM ( SELECT stockName AS stock, 100*abs(High - Low)/Open AS dailyDiffRatio FROM indiaBullsView ) GROUP BY stock\n",
            "SELECT stock, AVG(dailyDiffRatio) AS intraDayAvgVolatilityPercent  FROM ( SELECT stockName AS stock, 100*abs(High - Low)/Open AS dailyDiffRatio FROM relianceView ) GROUP BY stock\n",
            "SELECT stock, AVG(dailyDiffRatio) AS intraDayAvgVolatilityPercent  FROM ( SELECT stockName AS stock, 100*abs(High - Low)/Open AS dailyDiffRatio FROM ONGCView ) GROUP BY stock\n",
            "SELECT stock, AVG(dailyDiffRatio) AS intraDayAvgVolatilityPercent  FROM ( SELECT stockName AS stock, 100*abs(High - Low)/Open AS dailyDiffRatio FROM tataMotorView ) GROUP BY stock\n",
            "SELECT stock, AVG(dailyDiffRatio) AS intraDayAvgVolatilityPercent  FROM ( SELECT stockName AS stock, 100*abs(High - Low)/Open AS dailyDiffRatio FROM heroView ) GROUP BY stock\n",
            "SELECT stock, AVG(dailyDiffRatio) AS intraDayAvgVolatilityPercent  FROM ( SELECT stockName AS stock, 100*abs(High - Low)/Open AS dailyDiffRatio FROM symphonyView ) GROUP BY stock\n",
            "SELECT stock, AVG(dailyDiffRatio) AS intraDayAvgVolatilityPercent  FROM ( SELECT stockName AS stock, 100*abs(High - Low)/Open AS dailyDiffRatio FROM whirlpoolView ) GROUP BY stock\n",
            "SELECT stock, AVG(dailyDiffRatio) AS intraDayAvgVolatilityPercent  FROM ( SELECT stockName AS stock, 100*abs(High - Low)/Open AS dailyDiffRatio FROM donearView ) GROUP BY stock\n",
            "SELECT stock, AVG(dailyDiffRatio) AS intraDayAvgVolatilityPercent  FROM ( SELECT stockName AS stock, 100*abs(High - Low)/Open AS dailyDiffRatio FROM raymondView ) GROUP BY stock\n",
            "The most volatile stocks (intra-day) in 2019 are in order : \n",
            "+----------+----------------------------+\n",
            "|     stock|intraDayAvgVolatilityPercent|\n",
            "+----------+----------------------------+\n",
            "|indiaBulls|           5.980829953919609|\n",
            "|    donear|            5.75693721918782|\n",
            "| tataMotor|           4.318958771947925|\n",
            "|      HDFC|          4.1675598744428655|\n",
            "|       DLF|          4.1675598744428655|\n",
            "|   raymond|           3.585379229677818|\n",
            "|  symphony|          3.3720825726308963|\n",
            "| sunpharma|           3.203974976188762|\n",
            "| whirlpool|           3.184835773818974|\n",
            "|      ONGC|          2.9027009189407535|\n",
            "|      hero|          2.8374709090673202|\n",
            "|     cipla|          2.4807164574084584|\n",
            "|     ICICI|           2.370941100758519|\n",
            "|  reliance|           2.201847281353027|\n",
            "|       HUL|          1.8104748795063113|\n",
            "+----------+----------------------------+\n",
            "\n"
          ],
          "name": "stdout"
        }
      ]
    },
    {
      "cell_type": "code",
      "metadata": {
        "id": "kL0o_MU41Jr1",
        "colab_type": "code",
        "outputId": "3cbf7209-be51-4a03-f71b-0cb37b6c0f79",
        "colab": {
          "base_uri": "https://localhost:8080/",
          "height": 642
        }
      },
      "source": [
        "'''\n",
        "     * 2. Most Volatile stocks for inter-day in 2019 (descending order)\n",
        "     * Description :  stock that remained least stable overnight.\n",
        "     * average of absolute difference between opening price and closing price of previous day.\n",
        "     \n",
        "'''\n",
        "\n",
        "def createQueryForMaxInterDayVolatility(stocks):\n",
        "  query = \"\";\n",
        "  for stock in stocks:\n",
        "    if stock != stocks[0]:\n",
        "      query += \"UNION\"\n",
        "    subQuery = \"SELECT stock, AVG(interdayDiffRatio) AS interDayAvgVolatilityPercent \"\\\n",
        "          +\" FROM ( SELECT stockName AS stock,\"\\\n",
        "          +\" 100*abs(Close - (lead(Open) over (order by Date)))/Close AS interDayDiffRatio\"\\\n",
        "          +\" FROM \" + stock + \"View )\"\\\n",
        "          +\" GROUP BY stock\"\n",
        "    print(subQuery)\n",
        "    query += \"( \" + subQuery + \" )\"\n",
        "  query += \"ORDER BY interDayAvgVolatilityPercent DESC\"\n",
        "  return query\n",
        "\n",
        "interDayAvgVolatility = spark.sql(createQueryForMaxInterDayVolatility(list(stocksToBeLoaded)));\n",
        "print(\"The volatile stocks(inter-day) in 2019 are in order : \");\n",
        "interDayAvgVolatility.show(20)"
      ],
      "execution_count": 7,
      "outputs": [
        {
          "output_type": "stream",
          "text": [
            "SELECT stock, AVG(interdayDiffRatio) AS interDayAvgVolatilityPercent  FROM ( SELECT stockName AS stock, 100*abs(Close - (lead(Open) over (order by Date)))/Close AS interDayDiffRatio FROM HDFCView ) GROUP BY stock\n",
            "SELECT stock, AVG(interdayDiffRatio) AS interDayAvgVolatilityPercent  FROM ( SELECT stockName AS stock, 100*abs(Close - (lead(Open) over (order by Date)))/Close AS interDayDiffRatio FROM ICICIView ) GROUP BY stock\n",
            "SELECT stock, AVG(interdayDiffRatio) AS interDayAvgVolatilityPercent  FROM ( SELECT stockName AS stock, 100*abs(Close - (lead(Open) over (order by Date)))/Close AS interDayDiffRatio FROM ciplaView ) GROUP BY stock\n",
            "SELECT stock, AVG(interdayDiffRatio) AS interDayAvgVolatilityPercent  FROM ( SELECT stockName AS stock, 100*abs(Close - (lead(Open) over (order by Date)))/Close AS interDayDiffRatio FROM HULView ) GROUP BY stock\n",
            "SELECT stock, AVG(interdayDiffRatio) AS interDayAvgVolatilityPercent  FROM ( SELECT stockName AS stock, 100*abs(Close - (lead(Open) over (order by Date)))/Close AS interDayDiffRatio FROM sunpharmaView ) GROUP BY stock\n",
            "SELECT stock, AVG(interdayDiffRatio) AS interDayAvgVolatilityPercent  FROM ( SELECT stockName AS stock, 100*abs(Close - (lead(Open) over (order by Date)))/Close AS interDayDiffRatio FROM DLFView ) GROUP BY stock\n",
            "SELECT stock, AVG(interdayDiffRatio) AS interDayAvgVolatilityPercent  FROM ( SELECT stockName AS stock, 100*abs(Close - (lead(Open) over (order by Date)))/Close AS interDayDiffRatio FROM indiaBullsView ) GROUP BY stock\n",
            "SELECT stock, AVG(interdayDiffRatio) AS interDayAvgVolatilityPercent  FROM ( SELECT stockName AS stock, 100*abs(Close - (lead(Open) over (order by Date)))/Close AS interDayDiffRatio FROM relianceView ) GROUP BY stock\n",
            "SELECT stock, AVG(interdayDiffRatio) AS interDayAvgVolatilityPercent  FROM ( SELECT stockName AS stock, 100*abs(Close - (lead(Open) over (order by Date)))/Close AS interDayDiffRatio FROM ONGCView ) GROUP BY stock\n",
            "SELECT stock, AVG(interdayDiffRatio) AS interDayAvgVolatilityPercent  FROM ( SELECT stockName AS stock, 100*abs(Close - (lead(Open) over (order by Date)))/Close AS interDayDiffRatio FROM tataMotorView ) GROUP BY stock\n",
            "SELECT stock, AVG(interdayDiffRatio) AS interDayAvgVolatilityPercent  FROM ( SELECT stockName AS stock, 100*abs(Close - (lead(Open) over (order by Date)))/Close AS interDayDiffRatio FROM heroView ) GROUP BY stock\n",
            "SELECT stock, AVG(interdayDiffRatio) AS interDayAvgVolatilityPercent  FROM ( SELECT stockName AS stock, 100*abs(Close - (lead(Open) over (order by Date)))/Close AS interDayDiffRatio FROM symphonyView ) GROUP BY stock\n",
            "SELECT stock, AVG(interdayDiffRatio) AS interDayAvgVolatilityPercent  FROM ( SELECT stockName AS stock, 100*abs(Close - (lead(Open) over (order by Date)))/Close AS interDayDiffRatio FROM whirlpoolView ) GROUP BY stock\n",
            "SELECT stock, AVG(interdayDiffRatio) AS interDayAvgVolatilityPercent  FROM ( SELECT stockName AS stock, 100*abs(Close - (lead(Open) over (order by Date)))/Close AS interDayDiffRatio FROM donearView ) GROUP BY stock\n",
            "SELECT stock, AVG(interdayDiffRatio) AS interDayAvgVolatilityPercent  FROM ( SELECT stockName AS stock, 100*abs(Close - (lead(Open) over (order by Date)))/Close AS interDayDiffRatio FROM raymondView ) GROUP BY stock\n",
            "The volatile stocks(inter-day) in 2019 are in order : \n",
            "+----------+----------------------------+\n",
            "|     stock|interDayAvgVolatilityPercent|\n",
            "+----------+----------------------------+\n",
            "|    donear|           1.371194991911884|\n",
            "|indiaBulls|          1.1729494750891345|\n",
            "| tataMotor|          0.7710632019041214|\n",
            "|      HDFC|          0.5934242635735413|\n",
            "|       DLF|          0.5934242635735413|\n",
            "| whirlpool|          0.5492465526688595|\n",
            "|  symphony|          0.5389301986245337|\n",
            "|     ICICI|          0.5168365549363568|\n",
            "| sunpharma|          0.5002572844875388|\n",
            "|  reliance|           0.492976166839655|\n",
            "|   raymond|         0.48833741209433607|\n",
            "|      ONGC|          0.4515711850401439|\n",
            "|      hero|         0.42781408580087954|\n",
            "|     cipla|         0.36102117406793494|\n",
            "|       HUL|          0.2681791808439483|\n",
            "+----------+----------------------------+\n",
            "\n"
          ],
          "name": "stdout"
        }
      ]
    },
    {
      "cell_type": "code",
      "metadata": {
        "id": "VhnrjruT2ags",
        "colab_type": "code",
        "outputId": "674d8444-de69-4a7d-ed2e-92c35f0024a8",
        "colab": {
          "base_uri": "https://localhost:8080/",
          "height": 642
        }
      },
      "source": [
        "'''\n",
        "     * 3. Most profit earned per unit stock in 2019 (descending order)\n",
        "     * Description :  which stock would have given most profit per unit in year 2019,\n",
        "     *  assuming it was bought on first day and sold on last day of 2019.\n",
        "'''\n",
        "\n",
        "def createQueryForMaxProfit(stocks):\n",
        "  query = \"\";\n",
        "  for stock in stocks:\n",
        "    if stock != stocks[0]:\n",
        "      query += \"UNION\"\n",
        "    subQuery = \"SELECT stock, SUM(price) AS profit, SUM(basePrice) AS basePrice \"\\\n",
        "          +\" FROM ( SELECT stockName AS stock, Close as price, 0 as basePrice FROM \" + stock + \"View WHERE Date = '2019-12-31'\"\\\n",
        "          +\" UNION\"\\\n",
        "          +\" SELECT stockName AS stock, Open*-1 as price, Open as basePrice  FROM \" + stock + \"View WHERE Date = '2019-01-01' )\"\\\n",
        "          +\" GROUP BY stock\"\n",
        "    print(subQuery)\n",
        "    query += \"( \" + subQuery + \" )\"\n",
        "  query += \"ORDER BY profit DESC\"\n",
        "  return query\n",
        "\n",
        "profits = spark.sql(createQueryForMaxProfit(list(stocksToBeLoaded)));\n",
        "print(\"The profit earned per unit stock in 2019 is in order : \");\n",
        "profits.show()"
      ],
      "execution_count": 8,
      "outputs": [
        {
          "output_type": "stream",
          "text": [
            "SELECT stock, SUM(price) AS profit, SUM(basePrice) AS basePrice  FROM ( SELECT stockName AS stock, Close as price, 0 as basePrice FROM HDFCView WHERE Date = '2019-12-31' UNION SELECT stockName AS stock, Open*-1 as price, Open as basePrice  FROM HDFCView WHERE Date = '2019-01-01' ) GROUP BY stock\n",
            "SELECT stock, SUM(price) AS profit, SUM(basePrice) AS basePrice  FROM ( SELECT stockName AS stock, Close as price, 0 as basePrice FROM ICICIView WHERE Date = '2019-12-31' UNION SELECT stockName AS stock, Open*-1 as price, Open as basePrice  FROM ICICIView WHERE Date = '2019-01-01' ) GROUP BY stock\n",
            "SELECT stock, SUM(price) AS profit, SUM(basePrice) AS basePrice  FROM ( SELECT stockName AS stock, Close as price, 0 as basePrice FROM ciplaView WHERE Date = '2019-12-31' UNION SELECT stockName AS stock, Open*-1 as price, Open as basePrice  FROM ciplaView WHERE Date = '2019-01-01' ) GROUP BY stock\n",
            "SELECT stock, SUM(price) AS profit, SUM(basePrice) AS basePrice  FROM ( SELECT stockName AS stock, Close as price, 0 as basePrice FROM HULView WHERE Date = '2019-12-31' UNION SELECT stockName AS stock, Open*-1 as price, Open as basePrice  FROM HULView WHERE Date = '2019-01-01' ) GROUP BY stock\n",
            "SELECT stock, SUM(price) AS profit, SUM(basePrice) AS basePrice  FROM ( SELECT stockName AS stock, Close as price, 0 as basePrice FROM sunpharmaView WHERE Date = '2019-12-31' UNION SELECT stockName AS stock, Open*-1 as price, Open as basePrice  FROM sunpharmaView WHERE Date = '2019-01-01' ) GROUP BY stock\n",
            "SELECT stock, SUM(price) AS profit, SUM(basePrice) AS basePrice  FROM ( SELECT stockName AS stock, Close as price, 0 as basePrice FROM DLFView WHERE Date = '2019-12-31' UNION SELECT stockName AS stock, Open*-1 as price, Open as basePrice  FROM DLFView WHERE Date = '2019-01-01' ) GROUP BY stock\n",
            "SELECT stock, SUM(price) AS profit, SUM(basePrice) AS basePrice  FROM ( SELECT stockName AS stock, Close as price, 0 as basePrice FROM indiaBullsView WHERE Date = '2019-12-31' UNION SELECT stockName AS stock, Open*-1 as price, Open as basePrice  FROM indiaBullsView WHERE Date = '2019-01-01' ) GROUP BY stock\n",
            "SELECT stock, SUM(price) AS profit, SUM(basePrice) AS basePrice  FROM ( SELECT stockName AS stock, Close as price, 0 as basePrice FROM relianceView WHERE Date = '2019-12-31' UNION SELECT stockName AS stock, Open*-1 as price, Open as basePrice  FROM relianceView WHERE Date = '2019-01-01' ) GROUP BY stock\n",
            "SELECT stock, SUM(price) AS profit, SUM(basePrice) AS basePrice  FROM ( SELECT stockName AS stock, Close as price, 0 as basePrice FROM ONGCView WHERE Date = '2019-12-31' UNION SELECT stockName AS stock, Open*-1 as price, Open as basePrice  FROM ONGCView WHERE Date = '2019-01-01' ) GROUP BY stock\n",
            "SELECT stock, SUM(price) AS profit, SUM(basePrice) AS basePrice  FROM ( SELECT stockName AS stock, Close as price, 0 as basePrice FROM tataMotorView WHERE Date = '2019-12-31' UNION SELECT stockName AS stock, Open*-1 as price, Open as basePrice  FROM tataMotorView WHERE Date = '2019-01-01' ) GROUP BY stock\n",
            "SELECT stock, SUM(price) AS profit, SUM(basePrice) AS basePrice  FROM ( SELECT stockName AS stock, Close as price, 0 as basePrice FROM heroView WHERE Date = '2019-12-31' UNION SELECT stockName AS stock, Open*-1 as price, Open as basePrice  FROM heroView WHERE Date = '2019-01-01' ) GROUP BY stock\n",
            "SELECT stock, SUM(price) AS profit, SUM(basePrice) AS basePrice  FROM ( SELECT stockName AS stock, Close as price, 0 as basePrice FROM symphonyView WHERE Date = '2019-12-31' UNION SELECT stockName AS stock, Open*-1 as price, Open as basePrice  FROM symphonyView WHERE Date = '2019-01-01' ) GROUP BY stock\n",
            "SELECT stock, SUM(price) AS profit, SUM(basePrice) AS basePrice  FROM ( SELECT stockName AS stock, Close as price, 0 as basePrice FROM whirlpoolView WHERE Date = '2019-12-31' UNION SELECT stockName AS stock, Open*-1 as price, Open as basePrice  FROM whirlpoolView WHERE Date = '2019-01-01' ) GROUP BY stock\n",
            "SELECT stock, SUM(price) AS profit, SUM(basePrice) AS basePrice  FROM ( SELECT stockName AS stock, Close as price, 0 as basePrice FROM donearView WHERE Date = '2019-12-31' UNION SELECT stockName AS stock, Open*-1 as price, Open as basePrice  FROM donearView WHERE Date = '2019-01-01' ) GROUP BY stock\n",
            "SELECT stock, SUM(price) AS profit, SUM(basePrice) AS basePrice  FROM ( SELECT stockName AS stock, Close as price, 0 as basePrice FROM raymondView WHERE Date = '2019-12-31' UNION SELECT stockName AS stock, Open*-1 as price, Open as basePrice  FROM raymondView WHERE Date = '2019-01-01' ) GROUP BY stock\n",
            "The profit earned per unit stock in 2019 is in order : \n",
            "+----------+-------------------+-----------+\n",
            "|     stock|             profit|  basePrice|\n",
            "+----------+-------------------+-----------+\n",
            "| whirlpool|             953.75|    1419.75|\n",
            "|  reliance| 388.80004899999994|    1125.25|\n",
            "|     ICICI| 177.40002400000003|      361.5|\n",
            "|       HUL|  98.19995100000006|1824.800049|\n",
            "|      HDFC| 53.799987999999985| 177.100006|\n",
            "|       DLF| 53.799987999999985| 177.100006|\n",
            "| tataMotor| 11.649993999999992|      173.5|\n",
            "| sunpharma|0.04998799999998482|      432.5|\n",
            "|    donear|              -7.25|  37.299999|\n",
            "|  symphony|              -19.5|1181.949951|\n",
            "|      ONGC|-21.199996999999996|      150.0|\n",
            "|indiaBulls|             -22.25|  87.599998|\n",
            "|     cipla|-41.799987999999985|      520.0|\n",
            "|   raymond|-177.09997599999997|      846.0|\n",
            "|      hero|        -645.949951|     3089.0|\n",
            "+----------+-------------------+-----------+\n",
            "\n"
          ],
          "name": "stdout"
        }
      ]
    },
    {
      "cell_type": "code",
      "metadata": {
        "id": "FUpj-69Kt2eU",
        "colab_type": "code",
        "outputId": "c8b229da-4527-4129-d927-50b3b32a0358",
        "colab": {
          "base_uri": "https://localhost:8080/",
          "height": 370
        }
      },
      "source": [
        "'''\n",
        "    \n",
        "     * 4. Most profitable stocks in 2019 (descending order)\n",
        "     * Description :  which stock would have given most profit in year 2019,\n",
        "     *  assuming it was bought on first day and sold on last day of 2019.\n",
        "'''\n",
        "\n",
        "\n",
        "profits.createTempView(\"profits\");\n",
        "\n",
        "def createQueryforMaxPercentageProfit():\n",
        "  query = \"\";\n",
        "  query = \"SELECT profits.stock, profits.profit, profits.basePrice,\"\\\n",
        "        +\" (100*(profits.profit / profits.basePrice)) AS profitPercent FROM profits \"\n",
        "  query += \"ORDER BY profitPercent DESC\"\n",
        "  return query;\n",
        "\n",
        "\n",
        "profitPercentage = spark.sql(createQueryforMaxPercentageProfit());\n",
        "print(\"The % profit earned per unit stock in 2019 is in order : \");\n",
        "profitPercentage.show(20)\n"
      ],
      "execution_count": 9,
      "outputs": [
        {
          "output_type": "stream",
          "text": [
            "The % profit earned per unit stock in 2019 is in order : \n",
            "+----------+-------------------+-----------+-------------------+\n",
            "|     stock|             profit|  basePrice|      profitPercent|\n",
            "+----------+-------------------+-----------+-------------------+\n",
            "| whirlpool|             953.75|    1419.75|  67.17731995069555|\n",
            "|     ICICI| 177.40002400000003|      361.5|   49.0733123098202|\n",
            "|  reliance| 388.80004899999994|    1125.25|  34.55232606087535|\n",
            "|      HDFC| 53.799987999999985| 177.100006| 30.378309529814462|\n",
            "|       DLF| 53.799987999999985| 177.100006| 30.378309529814462|\n",
            "| tataMotor| 11.649993999999992|      173.5|  6.714693948126797|\n",
            "|       HUL|  98.19995100000006|1824.800049|  5.381408831823198|\n",
            "| sunpharma|0.04998799999998482|      432.5|  0.011557919075141|\n",
            "|  symphony|              -19.5|1181.949951|-1.6498160504598218|\n",
            "|     cipla|-41.799987999999985|      520.0| -8.038459230769227|\n",
            "|      ONGC|-21.199996999999996|      150.0|-14.133331333333333|\n",
            "|    donear|              -7.25|  37.299999| -19.43699784013399|\n",
            "|      hero|        -645.949951|     3089.0|-20.911296568468764|\n",
            "|   raymond|-177.09997599999997|      846.0|-20.933803309692667|\n",
            "|indiaBulls|             -22.25|  87.599998|  -25.3995439588937|\n",
            "+----------+-------------------+-----------+-------------------+\n",
            "\n"
          ],
          "name": "stdout"
        }
      ]
    },
    {
      "cell_type": "code",
      "metadata": {
        "id": "QqUZ-_MJ4mEI",
        "colab_type": "code",
        "colab": {}
      },
      "source": [
        ""
      ],
      "execution_count": 0,
      "outputs": []
    }
  ]
}