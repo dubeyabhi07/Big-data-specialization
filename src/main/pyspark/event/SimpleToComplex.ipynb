{
  "nbformat": 4,
  "nbformat_minor": 0,
  "metadata": {
    "colab": {
      "name": "SimpleToComplex.ipynb",
      "provenance": [],
      "collapsed_sections": [],
      "authorship_tag": "ABX9TyO3WDYpYMGX5I3GFZbL/R69",
      "include_colab_link": true
    },
    "kernelspec": {
      "name": "python3",
      "display_name": "Python 3"
    }
  },
  "cells": [
    {
      "cell_type": "markdown",
      "metadata": {
        "id": "view-in-github",
        "colab_type": "text"
      },
      "source": [
        "<a href=\"https://colab.research.google.com/github/dubeyabhi07/big-data-spark/blob/master/src/main/pyspark/event/SimpleToComplex.ipynb\" target=\"_parent\"><img src=\"https://colab.research.google.com/assets/colab-badge.svg\" alt=\"Open In Colab\"/></a>"
      ]
    },
    {
      "cell_type": "code",
      "metadata": {
        "id": "0UWBbibb2uLK",
        "colab_type": "code",
        "colab": {}
      },
      "source": [
        "!apt-get install openjdk-8-jdk-headless -qq > /dev/null"
      ],
      "execution_count": null,
      "outputs": []
    },
    {
      "cell_type": "code",
      "metadata": {
        "id": "UG7uiGgf24D-",
        "colab_type": "code",
        "colab": {}
      },
      "source": [
        "import os\n",
        "os.environ[\"JAVA_HOME\"] = \"/usr/lib/jvm/java-8-openjdk-amd64\""
      ],
      "execution_count": null,
      "outputs": []
    },
    {
      "cell_type": "code",
      "metadata": {
        "id": "lRI9g5x1bxbH",
        "colab_type": "code",
        "colab": {
          "base_uri": "https://localhost:8080/",
          "height": 255
        },
        "outputId": "92a79cc8-44df-454d-92e9-a8f10f43a6ec"
      },
      "source": [
        "!pip install pyspark\n",
        "from pyspark.sql import SparkSession\n",
        "spark = SparkSession.builder.master(\"local[*]\").getOrCreate()"
      ],
      "execution_count": null,
      "outputs": [
        {
          "output_type": "stream",
          "text": [
            "Collecting pyspark\n",
            "\u001b[?25l  Downloading https://files.pythonhosted.org/packages/e9/e4/5c15ab8d354c4e3528510821865e6748209a9b0ff6a1788f4cd36cc2a5dc/pyspark-2.4.6.tar.gz (218.4MB)\n",
            "\u001b[K     |████████████████████████████████| 218.4MB 61kB/s \n",
            "\u001b[?25hCollecting py4j==0.10.7\n",
            "\u001b[?25l  Downloading https://files.pythonhosted.org/packages/e3/53/c737818eb9a7dc32a7cd4f1396e787bd94200c3997c72c1dbe028587bd76/py4j-0.10.7-py2.py3-none-any.whl (197kB)\n",
            "\u001b[K     |████████████████████████████████| 204kB 42.8MB/s \n",
            "\u001b[?25hBuilding wheels for collected packages: pyspark\n",
            "  Building wheel for pyspark (setup.py) ... \u001b[?25l\u001b[?25hdone\n",
            "  Created wheel for pyspark: filename=pyspark-2.4.6-py2.py3-none-any.whl size=218814406 sha256=93e2f1bcb442a76187b974c3333cb2013d79c3e757ec271c845d82a28eeaf9e2\n",
            "  Stored in directory: /root/.cache/pip/wheels/1e/5e/6a/17e906c94ec7246f260330a66e44a06a0809033ba2738a74a8\n",
            "Successfully built pyspark\n",
            "Installing collected packages: py4j, pyspark\n",
            "Successfully installed py4j-0.10.7 pyspark-2.4.6\n"
          ],
          "name": "stdout"
        }
      ]
    },
    {
      "cell_type": "code",
      "metadata": {
        "id": "CrkBXb0KbWwD",
        "colab_type": "code",
        "colab": {
          "base_uri": "https://localhost:8080/",
          "height": 185
        },
        "outputId": "a1e9dd51-0557-4b7d-f7d9-4ab37cb5324c"
      },
      "source": [
        "from pyspark.sql.functions import *\n",
        "\n",
        "\n",
        "'''\n",
        " processing schedule.csv (was saved in ComplexToSimple.scala)\n",
        "\n",
        "'''\n",
        "\n",
        "\n",
        "schDf = spark.read.csv(\"schedule.csv\", inferSchema = True, header = True)\n",
        "\n",
        "schDf = schDf.withColumn(\"detail\", struct(col(\"cost\"), col(\"date\")))\\\n",
        "  .drop(col(\"cost\")).drop(col(\"date\"))\\\n",
        "  .groupBy(col(\"event_id\"), col(\"city\"))\\\n",
        "  .agg(collect_list(\"detail\").alias(\"details\"))\\\n",
        "  .select(col(\"event_id\"), create_map(col(\"city\"), col(\"details\")).alias(\"schedule_per_city\"))\\\n",
        "  .groupBy(col(\"event_id\"))\\\n",
        "  .agg(collect_list(\"schedule_per_city\").alias(\"schedule\"))\n",
        "\n",
        "schDf.printSchema()\n"
      ],
      "execution_count": null,
      "outputs": [
        {
          "output_type": "stream",
          "text": [
            "root\n",
            " |-- event_id: string (nullable = true)\n",
            " |-- schedule: array (nullable = true)\n",
            " |    |-- element: map (containsNull = true)\n",
            " |    |    |-- key: string\n",
            " |    |    |-- value: array (valueContainsNull = true)\n",
            " |    |    |    |-- element: struct (containsNull = true)\n",
            " |    |    |    |    |-- cost: string (nullable = true)\n",
            " |    |    |    |    |-- date: string (nullable = true)\n",
            "\n"
          ],
          "name": "stdout"
        }
      ]
    },
    {
      "cell_type": "code",
      "metadata": {
        "id": "p6xYbxXsaKG5",
        "colab_type": "code",
        "colab": {}
      },
      "source": [
        "from pyspark.sql.types import *\n",
        "\n",
        "from pyspark.sql.functions import udf\n",
        "innerMapSchema = MapType(StringType(), StringType(), True)\n",
        "arrSchema = ArrayType(innerMapSchema, True)\n",
        "mapSchema = MapType(StringType(), arrSchema, True)\n",
        "scheduleSchema = MapType(StringType(), mapSchema, True)\n",
        "\n",
        "def listToMapUdfFunc(val):\n",
        "  temp = val.replace(\"]},{\", \"],\")\n",
        "  temp = temp[1: len(temp) - 1]\n",
        "  return \"{'schedule': \" + temp + \"}\"\n",
        "\n",
        "\n",
        "listToMapUdf = udf(lambda x : listToMapUdfFunc(x),StringType())\n"
      ],
      "execution_count": null,
      "outputs": []
    },
    {
      "cell_type": "code",
      "metadata": {
        "id": "zbav1Uwhzvjn",
        "colab_type": "code",
        "colab": {
          "base_uri": "https://localhost:8080/",
          "height": 487
        },
        "outputId": "3fefc2df-acf9-46cd-c880-fb652042244d"
      },
      "source": [
        "schDf = schDf.select(col(\"event_id\"), to_json(col(\"schedule\")).alias(\"scheduleStr\"))\\\n",
        "  .withColumn(\"processedScheduleStr\", listToMapUdf(col(\"scheduleStr\")))\\\n",
        "  .withColumn(\"schedule\", from_json(col(\"processedScheduleStr\"), scheduleSchema))\\\n",
        "  .drop(col(\"processedScheduleStr\")).drop(col(\"scheduleStr\"))\n",
        "\n",
        "print(\"consolidated schedule Schema .........................................\")\n",
        "schDf.show(10)\n",
        "schDf.printSchema()"
      ],
      "execution_count": null,
      "outputs": [
        {
          "output_type": "stream",
          "text": [
            "consolidated schedule Schema .........................................\n",
            "+--------------------+--------+\n",
            "|            event_id|schedule|\n",
            "+--------------------+--------+\n",
            "|66729580-d036-475...|    null|\n",
            "|d644ef66-fe38-4d5...|    null|\n",
            "|522ef782-1a56-466...|    null|\n",
            "|c12d9de6-82a8-417...|    null|\n",
            "|0f815487-fddc-415...|    null|\n",
            "|7dbafd73-563e-412...|    null|\n",
            "|1a8672ec-97c3-466...|    null|\n",
            "|d997f98b-cbb2-47b...|    null|\n",
            "|e182c7aa-55c7-41e...|    null|\n",
            "|5ad93a2d-c540-412...|    null|\n",
            "+--------------------+--------+\n",
            "only showing top 10 rows\n",
            "\n",
            "root\n",
            " |-- event_id: string (nullable = true)\n",
            " |-- schedule: map (nullable = true)\n",
            " |    |-- key: string\n",
            " |    |-- value: map (valueContainsNull = true)\n",
            " |    |    |-- key: string\n",
            " |    |    |-- value: array (valueContainsNull = true)\n",
            " |    |    |    |-- element: map (containsNull = true)\n",
            " |    |    |    |    |-- key: string\n",
            " |    |    |    |    |-- value: string (valueContainsNull = true)\n",
            "\n"
          ],
          "name": "stdout"
        }
      ]
    },
    {
      "cell_type": "code",
      "metadata": {
        "id": "pAIDUh_C-MFM",
        "colab_type": "code",
        "colab": {
          "base_uri": "https://localhost:8080/",
          "height": 202
        },
        "outputId": "7a107455-c97a-4a60-d261-554a5728e206"
      },
      "source": [
        "'''\n",
        "  processing reserved.json (was saved in ComplexToSimple.scala)\n",
        "\n",
        "'''\n",
        "\n",
        "resDf = spark.read.json(\"../reserved.json\", multiLine = True)\n",
        "resDf.show(5)"
      ],
      "execution_count": null,
      "outputs": [
        {
          "output_type": "stream",
          "text": [
            "+--------------+--------------------+--------------------+---------------------+--------------------+-------------+\n",
            "|confirmed_city|             details|            event_id|total_confirmed_slots|total_waitlist_slots|waitlist_city|\n",
            "+--------------+--------------------+--------------------+---------------------+--------------------+-------------+\n",
            "|         Delhi|[[3485 Trailsway ...|da347978-162e-4f5...|                    3|                   5|        Delhi|\n",
            "|          null|                null|c12d9de6-82a8-417...|                 null|                   5|        Delhi|\n",
            "|     Bengaluru|[[354 8th Crossin...|002ce8ce-3609-490...|                    4|                   4|    Bengaluru|\n",
            "|          null|                null|661db387-0bed-435...|                 null|                   5|      Kolkata|\n",
            "|       Chennai|[[20159 Pepper Wo...|9dbd178d-c4f4-4ae...|                    5|                   2|      Chennai|\n",
            "+--------------+--------------------+--------------------+---------------------+--------------------+-------------+\n",
            "only showing top 5 rows\n",
            "\n"
          ],
          "name": "stdout"
        }
      ]
    },
    {
      "cell_type": "code",
      "metadata": {
        "id": "PzvcE1TuEcVp",
        "colab_type": "code",
        "colab": {}
      },
      "source": [
        "def processConfirmPart(resDf):\n",
        "  df = resDf.select(col('event_id'), col('details'), col('confirmed_city'), col('total_confirmed_slots'))\\\n",
        "      .where(col(\"confirmed_city\").isNotNull())\\\n",
        "      .drop(col('total_confirmed_slots'))\\\n",
        "      .select(col('event_id'), col('confirmed_city').alias(\"city\"), explode(col('details')).alias(\"detail\"))\\\n",
        "      .select(col('event_id'), struct(col('city'), col(\"detail.address\"), col(\"detail.slots\")).alias(\"confirmed\"))\\\n",
        "      .groupBy(col('event_id')).agg(collect_list(col('confirmed')).alias(\"confirmed\"))\n",
        "  return df  \n",
        "  \n",
        "  \n",
        "def processWaitlistPart(resDf):\n",
        "  df = resDf.select(col('event_id'),col('waitlist_city').alias(\"city\"),col('total_waitlist_slots').alias(\"slots\"))\\\n",
        "      .where(col(\"waitlist_city\").isNotNull())\\\n",
        "      .select(col('event_id'),struct(col('city'),col('slots')).alias(\"detail\"))\\\n",
        "      .groupBy(col('event_id')).agg(collect_list(col('detail')).alias(\"waitlist\"))\n",
        "  return df\n",
        "  "
      ],
      "execution_count": null,
      "outputs": []
    },
    {
      "cell_type": "code",
      "metadata": {
        "id": "mB8D4d98C0G6",
        "colab_type": "code",
        "colab": {
          "base_uri": "https://localhost:8080/",
          "height": 336
        },
        "outputId": "ef9a41f4-4928-4aef-dcb7-ef38752d98fa"
      },
      "source": [
        "confirmedDf = processConfirmPart(resDf)\n",
        "confirmedDf.show(5)\n",
        "confirmedDf.printSchema()"
      ],
      "execution_count": null,
      "outputs": [
        {
          "output_type": "stream",
          "text": [
            "+--------------------+--------------------+\n",
            "|            event_id|           confirmed|\n",
            "+--------------------+--------------------+\n",
            "|66729580-d036-475...|[[Delhi, 83403 Do...|\n",
            "|522ef782-1a56-466...|[[Bengaluru, 0415...|\n",
            "|d644ef66-fe38-4d5...|[[Mumbai, 18969 H...|\n",
            "|c12d9de6-82a8-417...|[[Kolkata, 061 My...|\n",
            "|0f815487-fddc-415...|[[Mumbai, 0308 Hu...|\n",
            "+--------------------+--------------------+\n",
            "only showing top 5 rows\n",
            "\n",
            "root\n",
            " |-- event_id: string (nullable = true)\n",
            " |-- confirmed: array (nullable = true)\n",
            " |    |-- element: struct (containsNull = true)\n",
            " |    |    |-- city: string (nullable = true)\n",
            " |    |    |-- address: string (nullable = true)\n",
            " |    |    |-- slots: long (nullable = true)\n",
            "\n"
          ],
          "name": "stdout"
        }
      ]
    },
    {
      "cell_type": "code",
      "metadata": {
        "id": "leEYBpEtFIFf",
        "colab_type": "code",
        "colab": {
          "base_uri": "https://localhost:8080/",
          "height": 319
        },
        "outputId": "4f3b1cb9-0b38-43c0-b3b0-b34fd1229274"
      },
      "source": [
        "waitlistDf = processWaitlistPart(resDf)\n",
        "waitlistDf.show(5)\n",
        "waitlistDf.printSchema()"
      ],
      "execution_count": null,
      "outputs": [
        {
          "output_type": "stream",
          "text": [
            "+--------------------+--------------------+\n",
            "|            event_id|            waitlist|\n",
            "+--------------------+--------------------+\n",
            "|66729580-d036-475...|[[Kolkata, 1], [D...|\n",
            "|d644ef66-fe38-4d5...|[[Chennai, 5], [M...|\n",
            "|522ef782-1a56-466...|[[Bengaluru, 1], ...|\n",
            "|c12d9de6-82a8-417...|[[Delhi, 5], [Kol...|\n",
            "|0f815487-fddc-415...|[[Delhi, 3], [Mum...|\n",
            "+--------------------+--------------------+\n",
            "only showing top 5 rows\n",
            "\n",
            "root\n",
            " |-- event_id: string (nullable = true)\n",
            " |-- waitlist: array (nullable = true)\n",
            " |    |-- element: struct (containsNull = true)\n",
            " |    |    |-- city: string (nullable = true)\n",
            " |    |    |-- slots: long (nullable = true)\n",
            "\n"
          ],
          "name": "stdout"
        }
      ]
    },
    {
      "cell_type": "code",
      "metadata": {
        "id": "EQLQDIEtFb3k",
        "colab_type": "code",
        "colab": {
          "base_uri": "https://localhost:8080/",
          "height": 437
        },
        "outputId": "f0c91f65-fc50-4354-a3b8-6670122b0d78"
      },
      "source": [
        "resDf = confirmedDf.join(waitlistDf, waitlistDf[\"event_id\"] == confirmedDf[\"event_id\"])\\\n",
        "      .drop(confirmedDf[\"event_id\"])\\\n",
        "      .select(col('event_id'), struct(col('confirmed'), col('waitlist')).alias(\"reserved\"))\n",
        "\n",
        "print(\"consolidated reserved Schema .........................................\")\n",
        "resDf.show(5)\n",
        "resDf.printSchema()\n"
      ],
      "execution_count": null,
      "outputs": [
        {
          "output_type": "stream",
          "text": [
            "consolidated reserved Schema .........................................\n",
            "+--------------------+--------------------+\n",
            "|            event_id|            reserved|\n",
            "+--------------------+--------------------+\n",
            "|66729580-d036-475...|[[[Delhi, 83403 D...|\n",
            "|522ef782-1a56-466...|[[[Bengaluru, 041...|\n",
            "|d644ef66-fe38-4d5...|[[[Mumbai, 18969 ...|\n",
            "|c12d9de6-82a8-417...|[[[Kolkata, 061 M...|\n",
            "|0f815487-fddc-415...|[[[Mumbai, 0308 H...|\n",
            "+--------------------+--------------------+\n",
            "only showing top 5 rows\n",
            "\n",
            "root\n",
            " |-- event_id: string (nullable = true)\n",
            " |-- reserved: struct (nullable = false)\n",
            " |    |-- confirmed: array (nullable = true)\n",
            " |    |    |-- element: struct (containsNull = true)\n",
            " |    |    |    |-- city: string (nullable = true)\n",
            " |    |    |    |-- address: string (nullable = true)\n",
            " |    |    |    |-- slots: long (nullable = true)\n",
            " |    |-- waitlist: array (nullable = true)\n",
            " |    |    |-- element: struct (containsNull = true)\n",
            " |    |    |    |-- city: string (nullable = true)\n",
            " |    |    |    |-- slots: long (nullable = true)\n",
            "\n"
          ],
          "name": "stdout"
        }
      ]
    },
    {
      "cell_type": "code",
      "metadata": {
        "id": "aXc45UkDGh-U",
        "colab_type": "code",
        "colab": {
          "base_uri": "https://localhost:8080/",
          "height": 554
        },
        "outputId": "e895eac7-e21c-4c22-c010-fd41d6a94ac7"
      },
      "source": [
        "finalDf = resDf.join(schDf, schDf[\"event_id\"] == resDf[\"event_id\"])\\\n",
        "      .select(schDf[\"event_id\"], col(\"reserved\"), col('schedule'))\\\n",
        "      .select(struct(col('event_id'), col(\"schedule.schedule\"), col('reserved')).alias(\"event_data\"))\n",
        "\n",
        "print(\"Final Output .........................................\")\n",
        "finalDf.show(5)\n",
        "finalDf.printSchema()"
      ],
      "execution_count": null,
      "outputs": [
        {
          "output_type": "stream",
          "text": [
            "Final Output .........................................\n",
            "+--------------------+\n",
            "|          event_data|\n",
            "+--------------------+\n",
            "|[66729580-d036-47...|\n",
            "|[522ef782-1a56-46...|\n",
            "|[d644ef66-fe38-4d...|\n",
            "|[c12d9de6-82a8-41...|\n",
            "|[0f815487-fddc-41...|\n",
            "+--------------------+\n",
            "only showing top 5 rows\n",
            "\n",
            "root\n",
            " |-- event_data: struct (nullable = false)\n",
            " |    |-- event_id: string (nullable = true)\n",
            " |    |-- schedule: map (nullable = true)\n",
            " |    |    |-- key: string\n",
            " |    |    |-- value: array (valueContainsNull = true)\n",
            " |    |    |    |-- element: map (containsNull = true)\n",
            " |    |    |    |    |-- key: string\n",
            " |    |    |    |    |-- value: string (valueContainsNull = true)\n",
            " |    |-- reserved: struct (nullable = false)\n",
            " |    |    |-- confirmed: array (nullable = true)\n",
            " |    |    |    |-- element: struct (containsNull = true)\n",
            " |    |    |    |    |-- city: string (nullable = true)\n",
            " |    |    |    |    |-- address: string (nullable = true)\n",
            " |    |    |    |    |-- slots: long (nullable = true)\n",
            " |    |    |-- waitlist: array (nullable = true)\n",
            " |    |    |    |-- element: struct (containsNull = true)\n",
            " |    |    |    |    |-- city: string (nullable = true)\n",
            " |    |    |    |    |-- slots: long (nullable = true)\n",
            "\n"
          ],
          "name": "stdout"
        }
      ]
    }
  ]
}