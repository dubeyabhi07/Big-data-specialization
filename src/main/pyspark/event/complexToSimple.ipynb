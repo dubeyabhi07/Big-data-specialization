{
  "nbformat": 4,
  "nbformat_minor": 0,
  "metadata": {
    "colab": {
      "name": "complexToSimple.ipynb",
      "provenance": [],
      "authorship_tag": "ABX9TyOx9MhUAQJ22276j5zQoliP",
      "include_colab_link": true
    },
    "kernelspec": {
      "name": "python3",
      "display_name": "Python 3"
    }
  },
  "cells": [
    {
      "cell_type": "markdown",
      "metadata": {
        "id": "view-in-github",
        "colab_type": "text"
      },
      "source": [
        "<a href=\"https://colab.research.google.com/github/dubeyabhi07/big-data-spark/blob/master/src/main/pyspark/event/complexToSimple.ipynb\" target=\"_parent\"><img src=\"https://colab.research.google.com/assets/colab-badge.svg\" alt=\"Open In Colab\"/></a>"
      ]
    },
    {
      "cell_type": "code",
      "metadata": {
        "id": "mW8fgh_eIdDL",
        "colab_type": "code",
        "colab": {}
      },
      "source": [
        "!apt-get install openjdk-8-jdk-headless -qq > /dev/null"
      ],
      "execution_count": 0,
      "outputs": []
    },
    {
      "cell_type": "code",
      "metadata": {
        "id": "hi-h6RmvItLm",
        "colab_type": "code",
        "colab": {}
      },
      "source": [
        "import os\n",
        "os.environ[\"JAVA_HOME\"] = \"/usr/lib/jvm/java-8-openjdk-amd64\""
      ],
      "execution_count": 0,
      "outputs": []
    },
    {
      "cell_type": "code",
      "metadata": {
        "id": "gX59zcqUIyS3",
        "colab_type": "code",
        "outputId": "ccdfd11a-19f6-4fa5-e11c-aa496ab52da2",
        "colab": {
          "base_uri": "https://localhost:8080/",
          "height": 255
        }
      },
      "source": [
        "!pip install pyspark\n",
        "from pyspark.sql import SparkSession\n",
        "spark = SparkSession.builder.master(\"local[*]\").getOrCreate()"
      ],
      "execution_count": 0,
      "outputs": [
        {
          "output_type": "stream",
          "text": [
            "Collecting pyspark\n",
            "\u001b[?25l  Downloading https://files.pythonhosted.org/packages/e9/e4/5c15ab8d354c4e3528510821865e6748209a9b0ff6a1788f4cd36cc2a5dc/pyspark-2.4.6.tar.gz (218.4MB)\n",
            "\u001b[K     |████████████████████████████████| 218.4MB 55kB/s \n",
            "\u001b[?25hCollecting py4j==0.10.7\n",
            "\u001b[?25l  Downloading https://files.pythonhosted.org/packages/e3/53/c737818eb9a7dc32a7cd4f1396e787bd94200c3997c72c1dbe028587bd76/py4j-0.10.7-py2.py3-none-any.whl (197kB)\n",
            "\u001b[K     |████████████████████████████████| 204kB 42.3MB/s \n",
            "\u001b[?25hBuilding wheels for collected packages: pyspark\n",
            "  Building wheel for pyspark (setup.py) ... \u001b[?25l\u001b[?25hdone\n",
            "  Created wheel for pyspark: filename=pyspark-2.4.6-py2.py3-none-any.whl size=218814406 sha256=9297d7eb2718d9f19bcae4c29d402660a227b549dfa8b80fb026debf70dc5915\n",
            "  Stored in directory: /root/.cache/pip/wheels/1e/5e/6a/17e906c94ec7246f260330a66e44a06a0809033ba2738a74a8\n",
            "Successfully built pyspark\n",
            "Installing collected packages: py4j, pyspark\n",
            "Successfully installed py4j-0.10.7 pyspark-2.4.6\n"
          ],
          "name": "stdout"
        }
      ]
    },
    {
      "cell_type": "code",
      "metadata": {
        "id": "oKenXNvUI4qP",
        "colab_type": "code",
        "outputId": "a6fa0944-a6d7-416d-f69f-2f3b92d1a66c",
        "colab": {
          "base_uri": "https://localhost:8080/",
          "height": 622
        }
      },
      "source": [
        "from pyspark.sql.functions import *\n",
        "\n",
        "\n",
        "'''\n",
        " processing schedule.csv (was saved in ComplexToSimple.scala)\n",
        "\n",
        "'''\n",
        "\n",
        "eventJsonDf = spark.read.json(\"event.json\", multiLine = True)\n",
        "\n",
        "eventJsonDf.printSchema()"
      ],
      "execution_count": 0,
      "outputs": [
        {
          "output_type": "stream",
          "text": [
            "root\n",
            " |-- event_data: array (nullable = true)\n",
            " |    |-- element: struct (containsNull = true)\n",
            " |    |    |-- event_id: string (nullable = true)\n",
            " |    |    |-- reserved: struct (nullable = true)\n",
            " |    |    |    |-- confirmed: array (nullable = true)\n",
            " |    |    |    |    |-- element: struct (containsNull = true)\n",
            " |    |    |    |    |    |-- address: string (nullable = true)\n",
            " |    |    |    |    |    |-- city: string (nullable = true)\n",
            " |    |    |    |    |    |-- slots: long (nullable = true)\n",
            " |    |    |    |-- waitlist: array (nullable = true)\n",
            " |    |    |    |    |-- element: struct (containsNull = true)\n",
            " |    |    |    |    |    |-- city: string (nullable = true)\n",
            " |    |    |    |    |    |-- slots: long (nullable = true)\n",
            " |    |    |-- schedule: struct (nullable = true)\n",
            " |    |    |    |-- Bangalore: array (nullable = true)\n",
            " |    |    |    |    |-- element: struct (containsNull = true)\n",
            " |    |    |    |    |    |-- cost: string (nullable = true)\n",
            " |    |    |    |    |    |-- date: string (nullable = true)\n",
            " |    |    |    |-- Chennai: array (nullable = true)\n",
            " |    |    |    |    |-- element: struct (containsNull = true)\n",
            " |    |    |    |    |    |-- cost: string (nullable = true)\n",
            " |    |    |    |    |    |-- date: string (nullable = true)\n",
            " |    |    |    |-- Delhi: array (nullable = true)\n",
            " |    |    |    |    |-- element: struct (containsNull = true)\n",
            " |    |    |    |    |    |-- cost: string (nullable = true)\n",
            " |    |    |    |    |    |-- date: string (nullable = true)\n",
            " |    |    |    |-- Kolkata: array (nullable = true)\n",
            " |    |    |    |    |-- element: struct (containsNull = true)\n",
            " |    |    |    |    |    |-- cost: string (nullable = true)\n",
            " |    |    |    |    |    |-- date: string (nullable = true)\n",
            " |    |    |    |-- Mumbai: array (nullable = true)\n",
            " |    |    |    |    |-- element: struct (containsNull = true)\n",
            " |    |    |    |    |    |-- cost: string (nullable = true)\n",
            " |    |    |    |    |    |-- date: string (nullable = true)\n",
            "\n"
          ],
          "name": "stdout"
        }
      ]
    },
    {
      "cell_type": "code",
      "metadata": {
        "id": "LlFPcjyZJ1y0",
        "colab_type": "code",
        "outputId": "e19eb8ea-8ca9-4f20-f569-6967b69bcfe4",
        "colab": {
          "base_uri": "https://localhost:8080/",
          "height": 773
        }
      },
      "source": [
        " #removing the cover, retrieving data and converting the outer fields into columns\n",
        "df = eventJsonDf.select(explode(col(\"event_data\")).alias(\"temp_field\"))\\\n",
        "      .select(col(\"temp_field.*\"))\n",
        "df.show(5)\n",
        "df.printSchema()"
      ],
      "execution_count": 0,
      "outputs": [
        {
          "output_type": "stream",
          "text": [
            "+--------------------+--------------------+--------------------+\n",
            "|            event_id|            reserved|            schedule|\n",
            "+--------------------+--------------------+--------------------+\n",
            "|c8a478e8-cfdc-466...|[[[4290 Hayes Ter...|[[[$5.51, 04/12/2...|\n",
            "|37217a8c-18ab-4b8...|[[[713 Waxwing Pl...|[[[$9.41, 11/02/2...|\n",
            "|4c04d44e-1bd7-471...|[[[64 Sunnyside C...|[[[$0.71, 06/14/2...|\n",
            "|b2f5620e-e756-411...|[[[4 Little Fleur...|[[[$9.34, 09/27/2...|\n",
            "|34c1e662-d85a-469...|[[[61992 Bartillo...|[[[$1.83, 04/29/2...|\n",
            "+--------------------+--------------------+--------------------+\n",
            "only showing top 5 rows\n",
            "\n",
            "root\n",
            " |-- event_id: string (nullable = true)\n",
            " |-- reserved: struct (nullable = true)\n",
            " |    |-- confirmed: array (nullable = true)\n",
            " |    |    |-- element: struct (containsNull = true)\n",
            " |    |    |    |-- address: string (nullable = true)\n",
            " |    |    |    |-- city: string (nullable = true)\n",
            " |    |    |    |-- slots: long (nullable = true)\n",
            " |    |-- waitlist: array (nullable = true)\n",
            " |    |    |-- element: struct (containsNull = true)\n",
            " |    |    |    |-- city: string (nullable = true)\n",
            " |    |    |    |-- slots: long (nullable = true)\n",
            " |-- schedule: struct (nullable = true)\n",
            " |    |-- Bangalore: array (nullable = true)\n",
            " |    |    |-- element: struct (containsNull = true)\n",
            " |    |    |    |-- cost: string (nullable = true)\n",
            " |    |    |    |-- date: string (nullable = true)\n",
            " |    |-- Chennai: array (nullable = true)\n",
            " |    |    |-- element: struct (containsNull = true)\n",
            " |    |    |    |-- cost: string (nullable = true)\n",
            " |    |    |    |-- date: string (nullable = true)\n",
            " |    |-- Delhi: array (nullable = true)\n",
            " |    |    |-- element: struct (containsNull = true)\n",
            " |    |    |    |-- cost: string (nullable = true)\n",
            " |    |    |    |-- date: string (nullable = true)\n",
            " |    |-- Kolkata: array (nullable = true)\n",
            " |    |    |-- element: struct (containsNull = true)\n",
            " |    |    |    |-- cost: string (nullable = true)\n",
            " |    |    |    |-- date: string (nullable = true)\n",
            " |    |-- Mumbai: array (nullable = true)\n",
            " |    |    |-- element: struct (containsNull = true)\n",
            " |    |    |    |-- cost: string (nullable = true)\n",
            " |    |    |    |-- date: string (nullable = true)\n",
            "\n"
          ],
          "name": "stdout"
        }
      ]
    },
    {
      "cell_type": "code",
      "metadata": {
        "id": "VcUHPLW4Kc06",
        "colab_type": "code",
        "colab": {}
      },
      "source": [
        "\n",
        "def getFlattenedConfirmedReservations(confirmedDf):\n",
        "  df = confirmedDf.withColumn(\"confirmed_entry_map\",\n",
        "      create_map(col(\"confirmed_entries.city\"),struct(col(\"confirmed_entries.address\"), col(\"confirmed_entries.slots\"))))\\\n",
        "      .withColumn(\"slots\", col(\"confirmed_entries.slots\"))\\\n",
        "      .drop(col(\"confirmed_entries\"))\n",
        "\n",
        "  df = df.select(col('event_id'), explode(col('confirmed_entry_map')), col('slots'))\\\n",
        "      .select(col(\"event_id\"), col(\"key\").alias(\"confirmed_city\"), col(\"value\").alias(\"details\"), col('slots'))\n",
        "      \n",
        "  df = df.groupBy(col(\"event_id\"), col(\"confirmed_city\"))\\\n",
        "      .agg(collect_list(\"details\").alias(\"details\"),sum(col(\"slots\")).alias(\"total_confirmed_slots\"))\n",
        "\n",
        "  print(\"confirmed reservation structure flattened .........................................\")\n",
        "  df.show(5)\n",
        "  df.printSchema()\n",
        "  return df\n",
        "\n",
        "def getFlattenedWaitlistedReservations(waitlistDf):\n",
        "  df = waitlistDf.select(col('event_id'), col(\"waitlisted_entries.*\"))\n",
        "  df = df.groupBy(col(\"event_id\"), col(\"city\").alias(\"waitlist_city\"))\\\n",
        "      .agg(sum(col(\"slots\")).alias(\"total_waitlist_slots\"))\n",
        "\n",
        "  print(\"waitlist reservation structure flattened .........................................\")\n",
        "  df.show(5)\n",
        "  df.printSchema()\n",
        "  return df\n",
        "  \n",
        "\n",
        "def getFlattenedReservedDf(reservedDf):\n",
        "  df = reservedDf.select(col('event_id'), col(\"reserved.*\"))\n",
        "\n",
        "  confirmedDf = df.withColumn(\"confirmed_entries\", explode(col(\"confirmed\")))\\\n",
        "  .drop(col('confirmed')).drop(col('waitlist'))\n",
        "  confirmedDf = getFlattenedConfirmedReservations(confirmedDf)\n",
        "\n",
        "  waitlistDf = df.withColumn(\"waitlisted_entries\", explode(col(\"waitlist\"))).\\\n",
        "      drop(col('confirmed')).drop(col('waitlist'))\n",
        "  waitlistDf = getFlattenedWaitlistedReservations(waitlistDf)\n",
        "\n",
        "  df = waitlistDf.join(confirmedDf,\n",
        "      (confirmedDf[\"event_id\"] == waitlistDf[\"event_id\"]) &\n",
        "        (waitlistDf[\"waitlist_city\"] == confirmedDf[\"confirmed_city\"]), \"outer\")\\\n",
        "      .select(confirmedDf[\"event_id\"], col('confirmed_city'), col('details'),\n",
        "        col('total_confirmed_slots'), col('waitlist_city'), col('total_waitlist_slots'))\\\n",
        "      .where(col(\"event_id\").isNotNull())\n",
        "     \n",
        "\n",
        "  print(\"reserved structured flattened .........................................\")\n",
        "  df.show(5)\n",
        "  df.printSchema()\n",
        "  return df"
      ],
      "execution_count": 0,
      "outputs": []
    },
    {
      "cell_type": "code",
      "metadata": {
        "id": "m-0cEN9zU-bi",
        "colab_type": "code",
        "outputId": "72c2432d-f120-4373-dbe9-3ded09a9a2d3",
        "colab": {
          "base_uri": "https://localhost:8080/",
          "height": 1000
        }
      },
      "source": [
        "reservedDf = df.select(col('event_id'), col('reserved'))\n",
        "reservedDf = getFlattenedReservedDf(reservedDf)"
      ],
      "execution_count": 0,
      "outputs": [
        {
          "output_type": "stream",
          "text": [
            "confirmed reservation structure flattened .........................................\n",
            "+--------------------+--------------+--------------------+---------------------+\n",
            "|            event_id|confirmed_city|             details|total_confirmed_slots|\n",
            "+--------------------+--------------+--------------------+---------------------+\n",
            "|da347978-162e-4f5...|         Delhi|[[3485 Trailsway ...|                    3|\n",
            "|002ce8ce-3609-490...|     Bengaluru|[[354 8th Crossin...|                    4|\n",
            "|10487f86-8343-4d9...|     Bengaluru|[[96894 Cascade H...|                    6|\n",
            "|56fee556-77da-4fb...|        Mumbai|[[50596 Springs R...|                    1|\n",
            "|9dbd178d-c4f4-4ae...|       Chennai|[[20159 Pepper Wo...|                    5|\n",
            "+--------------------+--------------+--------------------+---------------------+\n",
            "only showing top 5 rows\n",
            "\n",
            "root\n",
            " |-- event_id: string (nullable = true)\n",
            " |-- confirmed_city: string (nullable = false)\n",
            " |-- details: array (nullable = true)\n",
            " |    |-- element: struct (containsNull = true)\n",
            " |    |    |-- address: string (nullable = true)\n",
            " |    |    |-- slots: long (nullable = true)\n",
            " |-- total_confirmed_slots: long (nullable = true)\n",
            "\n",
            "waitlist reservation structure flattened .........................................\n",
            "+--------------------+-------------+--------------------+\n",
            "|            event_id|waitlist_city|total_waitlist_slots|\n",
            "+--------------------+-------------+--------------------+\n",
            "|da347978-162e-4f5...|        Delhi|                   5|\n",
            "|c12d9de6-82a8-417...|        Delhi|                   5|\n",
            "|002ce8ce-3609-490...|    Bengaluru|                   4|\n",
            "|661db387-0bed-435...|      Kolkata|                   5|\n",
            "|9dbd178d-c4f4-4ae...|      Chennai|                   2|\n",
            "+--------------------+-------------+--------------------+\n",
            "only showing top 5 rows\n",
            "\n",
            "root\n",
            " |-- event_id: string (nullable = true)\n",
            " |-- waitlist_city: string (nullable = true)\n",
            " |-- total_waitlist_slots: long (nullable = true)\n",
            "\n",
            "reserved structured flattened .........................................\n",
            "+--------------------+--------------+--------------------+---------------------+-------------+--------------------+\n",
            "|            event_id|confirmed_city|             details|total_confirmed_slots|waitlist_city|total_waitlist_slots|\n",
            "+--------------------+--------------+--------------------+---------------------+-------------+--------------------+\n",
            "|da347978-162e-4f5...|         Delhi|[[3485 Trailsway ...|                    3|        Delhi|                   5|\n",
            "|c12d9de6-82a8-417...|          null|                null|                 null|        Delhi|                   5|\n",
            "|002ce8ce-3609-490...|     Bengaluru|[[354 8th Crossin...|                    4|    Bengaluru|                   4|\n",
            "|661db387-0bed-435...|          null|                null|                 null|      Kolkata|                   5|\n",
            "|9dbd178d-c4f4-4ae...|       Chennai|[[20159 Pepper Wo...|                    5|      Chennai|                   2|\n",
            "+--------------------+--------------+--------------------+---------------------+-------------+--------------------+\n",
            "only showing top 5 rows\n",
            "\n",
            "root\n",
            " |-- event_id: string (nullable = true)\n",
            " |-- confirmed_city: string (nullable = true)\n",
            " |-- details: array (nullable = true)\n",
            " |    |-- element: struct (containsNull = true)\n",
            " |    |    |-- address: string (nullable = true)\n",
            " |    |    |-- slots: long (nullable = true)\n",
            " |-- total_confirmed_slots: long (nullable = true)\n",
            " |-- waitlist_city: string (nullable = true)\n",
            " |-- total_waitlist_slots: long (nullable = true)\n",
            "\n"
          ],
          "name": "stdout"
        }
      ]
    },
    {
      "cell_type": "code",
      "metadata": {
        "id": "vwwvxhMCXkNE",
        "colab_type": "code",
        "colab": {}
      },
      "source": [
        "from pyspark.sql.types import *\n",
        "collectUdf = udf(lambda cols,values: dict(zip(cols,values)),MapType(StringType(),\n",
        "                                                      ArrayType(StructType([StructField(\"cost\",StringType(),True),\n",
        "                                                                           StructField(\"date\",StringType(),True)]))))\n",
        "\n",
        "\n",
        "def getFlattenedScheduleDf(scheduleDf):\n",
        "\n",
        "  cols = scheduleDf.select(col(\"schedule.*\")).columns\n",
        "  df = scheduleDf.select(col('event_id'), col(\"schedule.*\"))\n",
        "  df = df.withColumn(\"all\", array(cols))\n",
        "\n",
        "  #Pyspark does not allow to create an array column using lit(), hence following work-around\n",
        "  tempList = []\n",
        "  for cityColumn in cols:\n",
        "    tempList.append(lit(cityColumn))\n",
        "\n",
        "  #converting this to array as zip need to iterables\n",
        "  df = df.withColumn(\"city_events_map\", collectUdf(array(tempList), df[\"all\"]))\\\n",
        "      .select(col('event_id'),col('city'),explode(col(\"city_events_map\")).alias(\"city\", \"schedules\"))\\\n",
        "      .withColumn(\"schedule\", explode(col(\"schedules\")))\\\n",
        "      .select(col('event_id'), col('city'), col(\"schedule.*\"))\n",
        "\n",
        "  print(\"schedule structure flattened .........................................\")\n",
        "  df.show(5)\n",
        "  df.printSchema()\n",
        "  return df"
      ],
      "execution_count": 0,
      "outputs": []
    },
    {
      "cell_type": "code",
      "metadata": {
        "id": "xC5YUuQ1Xk9g",
        "colab_type": "code",
        "outputId": "540d3772-9d59-413b-85a2-713bd7309ad9",
        "colab": {
          "base_uri": "https://localhost:8080/",
          "height": 319
        }
      },
      "source": [
        "scheduleDf = df.select(col('event_id'), col('schedule'))\n",
        "scheduleDf = getFlattenedScheduleDf(scheduleDf)"
      ],
      "execution_count": 0,
      "outputs": [
        {
          "output_type": "stream",
          "text": [
            "schedule structure flattened .........................................\n",
            "+--------------------+-------+-----+----------+\n",
            "|            event_id|   city| cost|      date|\n",
            "+--------------------+-------+-----+----------+\n",
            "|c8a478e8-cfdc-466...|  Delhi|$0.26|03/16/2020|\n",
            "|c8a478e8-cfdc-466...|  Delhi|$6.68|01/24/2020|\n",
            "|c8a478e8-cfdc-466...|  Delhi|$0.44|04/20/2020|\n",
            "|c8a478e8-cfdc-466...|Kolkata|$4.56|12/29/2019|\n",
            "|c8a478e8-cfdc-466...|Kolkata|$8.41|05/16/2020|\n",
            "+--------------------+-------+-----+----------+\n",
            "only showing top 5 rows\n",
            "\n",
            "root\n",
            " |-- event_id: string (nullable = true)\n",
            " |-- city: string (nullable = false)\n",
            " |-- cost: string (nullable = true)\n",
            " |-- date: string (nullable = true)\n",
            "\n"
          ],
          "name": "stdout"
        }
      ]
    },
    {
      "cell_type": "code",
      "metadata": {
        "id": "4d3cbOIQJdWE",
        "colab_type": "code",
        "colab": {}
      },
      "source": [
        "\n",
        "'''\n",
        "Saving the simpler files.\n",
        "\n",
        "'''\n",
        "\n",
        "scheduleDf.coalesce(1)\\\n",
        "    .write.format(\"csv\")\\\n",
        "    .option(\"header\", \"true\")\\\n",
        "    .mode(\"overwrite\")\\\n",
        "    .save(\"output/schedule.csv\")\n",
        "\n",
        "#This method saves single JSON object in a row, without comma separation\n",
        "reservedDf.coalesce(1)\\\n",
        "      .write.format(\"json\")\\\n",
        "      .mode(\"overwrite\")\\\n",
        "      .json(\"output/reserved.json\")"
      ],
      "execution_count": 0,
      "outputs": []
    },
    {
      "cell_type": "code",
      "metadata": {
        "id": "AIhmZbbHuH9P",
        "colab_type": "code",
        "colab": {}
      },
      "source": [
        ""
      ],
      "execution_count": 0,
      "outputs": []
    }
  ]
}